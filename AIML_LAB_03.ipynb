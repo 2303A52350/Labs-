{
  "nbformat": 4,
  "nbformat_minor": 0,
  "metadata": {
    "colab": {
      "provenance": [],
      "authorship_tag": "ABX9TyPRgH3XGtA6C6s5VXfP/UZl",
      "include_colab_link": true
    },
    "kernelspec": {
      "name": "python3",
      "display_name": "Python 3"
    },
    "language_info": {
      "name": "python"
    }
  },
  "cells": [
    {
      "cell_type": "markdown",
      "metadata": {
        "id": "view-in-github",
        "colab_type": "text"
      },
      "source": [
        "<a href=\"https://colab.research.google.com/github/2303A52350/Labs-/blob/main/AIML_LAB_03.ipynb\" target=\"_parent\"><img src=\"https://colab.research.google.com/assets/colab-badge.svg\" alt=\"Open In Colab\"/></a>"
      ]
    },
    {
      "cell_type": "code",
      "execution_count": 1,
      "metadata": {
        "id": "dxfWwRDD21XU"
      },
      "outputs": [],
      "source": [
        "from collections import namedtuple,Counter,defaultdict\n",
        "import random\n",
        "import math\n",
        "import functools\n",
        "cache = functools.lru_cache(10**6)"
      ]
    },
    {
      "cell_type": "code",
      "source": [
        "class Game:\n",
        "  def actions(self, state):\n",
        "    raise NotImplementedError\n",
        "  def results(self, state, move):\n",
        "    raise NotImplementedError\n",
        "  def utility(self, state, player):\n",
        "    raise NotImplementedError\n",
        "  def is_terminal(self, state):\n",
        "    return not self.actions(state)\n"
      ],
      "metadata": {
        "id": "lW7yxuGA4rtw"
      },
      "execution_count": 2,
      "outputs": []
    },
    {
      "cell_type": "code",
      "source": [
        "def play_game(game, statergies: dict, verbose=False):\n",
        "  state = game.initial\n",
        "  while not game.is_terminal(state):\n",
        "    player = state.to_move\n",
        "    move = statergies[player](game, state)\n",
        "    state = game.results(state, move)\n",
        "    if verbose:\n",
        "      print('player', player, 'move:', move)\n",
        "      print(state)\n",
        "  return state"
      ],
      "metadata": {
        "id": "0GI1MjDU6jQx"
      },
      "execution_count": 3,
      "outputs": []
    },
    {
      "cell_type": "code",
      "source": [
        "def minmax_search(game, state):\n",
        "  player = state.to_move\n",
        "  def max_value(state):\n",
        "      if game.is_teminal(state):\n",
        "         return game.utility(state, player)\n",
        "      v,move = -infinity, None\n",
        "      for a in game.actions(state):\n",
        "        v2, _ = min_value(game.results(state, a))\n",
        "        if v2 > v:\n",
        "          v, move = v2, a\n",
        "      return v, move\n",
        "def min_value(state):\n",
        "  if game.is_terminal(state):\n",
        "     return game.utility(state,player),None\n",
        "  v, move = +infinity, None\n",
        "  for a in game.actions(state):\n",
        "    v2, _ = max_value(game.results(state, a))\n",
        "    if v2 < v:\n",
        "      v, move = v2, a\n",
        "  return v, move\n",
        "  return max_value(state)\n",
        "  infinity = math.inf\n"
      ],
      "metadata": {
        "id": "7s_oJ-nf75sC"
      },
      "execution_count": 4,
      "outputs": []
    },
    {
      "cell_type": "code",
      "source": [
        "def alphabeta_search(game, state):\n",
        "    player = state.to_move\n",
        "    def max_value(state, alpha, beta):\n",
        "        if game.is_terminal(state):\n",
        "            return game.utility(state, player), None\n",
        "        v, move = -infinity, None\n",
        "        for a in game.actions(state):\n",
        "            v2, _ = min_value(game.result(state, a), alpha, beta)\n",
        "            if v2 > v:\n",
        "                v, move = v2, a\n",
        "                alpha = max(alpha, v)\n",
        "            if v >= beta:\n",
        "                return v, move\n",
        "        return v, move\n",
        "    def min_value(state, alpha, beta):\n",
        "        if game.is_termial(state):\n",
        "            return game.utility(state, player), None\n",
        "        v, move = +infinity, None\n",
        "        for a in game.actions(state):\n",
        "            v2, _ = max_value(game.result(state, a), alpha, beta)\n",
        "            if v2 < v:\n",
        "                v, move = v2, a\n",
        "                beta = min(beta, v)\n",
        "            if v <= alpha:\n",
        "                return v, move\n",
        "        return v, move\n",
        "    return max_value(state, -infinity, +infinity)\n",
        "infinity = math.inf\n",
        "\n"
      ],
      "metadata": {
        "id": "vjRy7jnG_pHb"
      },
      "execution_count": 5,
      "outputs": []
    },
    {
      "cell_type": "code",
      "source": [
        "#Part 3\n"
      ],
      "metadata": {
        "id": "7egBo0fzHE0M"
      },
      "execution_count": 6,
      "outputs": []
    },
    {
      "cell_type": "code",
      "source": [
        "class TicTacToe(Game):\n",
        " def _init_(self, height=3, width=3, k=3):\n",
        "  self.k=k\n",
        "  self.squares= {(x,y) for x in range (width) for y in range(height)}\n",
        "  self.initial = Board(height=height, width=width, to_move = 'X', utility = 0)\n",
        "  def actions(self, board):\n",
        "    return self.square - set(board)\n"
      ],
      "metadata": {
        "id": "llG5Y5I31etU"
      },
      "execution_count": 7,
      "outputs": []
    },
    {
      "cell_type": "code",
      "source": [
        "def result(self, board, square):\n",
        "  player = board.to_move\n",
        "  board = board.new({square: player}, to_move =('0' if player == 'X' else 'X'))\n",
        "  win = k_in_row(board, player, square, self.k)\n",
        "  board.utility = (0 if not win else +1 if player == 'X' else -1)\n",
        "  return board"
      ],
      "metadata": {
        "id": "N6Nf_Hey6EJw"
      },
      "execution_count": 8,
      "outputs": []
    },
    {
      "cell_type": "code",
      "source": [
        "def utility(self, board, player):\n",
        "  return board.utility if player == 'X' else -board.utility"
      ],
      "metadata": {
        "id": "t8yKxaa1-CpK"
      },
      "execution_count": 9,
      "outputs": []
    },
    {
      "cell_type": "code",
      "source": [
        "def is_terminal(self, board):\n",
        "  return board.utility != 0 or len(self.squares) == len(board)"
      ],
      "metadata": {
        "id": "mS9lmqVa-Ve2"
      },
      "execution_count": 10,
      "outputs": []
    },
    {
      "cell_type": "code",
      "source": [
        "def display(self, board,): print(board)\n",
        "def k_in_row(board, player, square, k):\n",
        "  def in_row(x, y, dx,dy):\n",
        "    return 0  if board[x,y] != player else 1 + in_row(x + dx, y + dy, dx, dy)\n",
        "    return any(in_row(*square, dx, dy) + in_row(*square, -dx, -dy)-1>=k\n",
        "               for(dx, dy) in((0, 1), (1, 0), (1, 1), (1,-1)))"
      ],
      "metadata": {
        "id": "SoHleJ7k-ob8"
      },
      "execution_count": 11,
      "outputs": []
    },
    {
      "cell_type": "code",
      "source": [
        "class Board(defaultdict):\n",
        " def _init_(self, width=8, height=8, to_move=None, **kwds):\n",
        "  self_dict_update(width=width, height=height, to_move=to_move, **kwds)\n"
      ],
      "metadata": {
        "id": "WWipprU0BKHn"
      },
      "execution_count": 12,
      "outputs": []
    },
    {
      "cell_type": "code",
      "source": [
        "def new(self, changes: dict, **kwds) -> 'Board':\n",
        "  board = Board(width=self.width, height=self.height, **kwds)\n",
        "  board.update(self)\n",
        "  board.update(changes)\n",
        "  return board"
      ],
      "metadata": {
        "id": "_0m9HAvqCTL3"
      },
      "execution_count": 13,
      "outputs": []
    },
    {
      "cell_type": "code",
      "source": [
        "def _missing_(self, loc):\n",
        "  x, y  = loc\n",
        "  if 0 <= x < self.width and 0<= y < self.height:\n",
        "    return self.empty\n",
        "  else:\n",
        "    return self.off"
      ],
      "metadata": {
        "id": "lwEqOyg4C181"
      },
      "execution_count": 14,
      "outputs": []
    },
    {
      "cell_type": "code",
      "source": [
        "def _hash_(self):\n",
        "  return hash(tuple(sorted(self.items()))) + hash(self.to_move)\n"
      ],
      "metadata": {
        "id": "KO9ooA2CDm67"
      },
      "execution_count": 15,
      "outputs": []
    },
    {
      "cell_type": "code",
      "source": [
        "def _repr_(self):\n",
        " def row(y): return ' '.join(self[x, y] for x in range(self.width))\n",
        " return'\\n'.join(map(row, range(self.height))) + '\\n'"
      ],
      "metadata": {
        "id": "9VrEDheEGAGQ"
      },
      "execution_count": 16,
      "outputs": []
    },
    {
      "cell_type": "code",
      "source": [
        "def random_player(game, state): return random.choice(list(game.actions(state)))\n",
        "def player(search_algorithm):\n",
        "  return lambda game, state: search_algorithm(game, state)[1]"
      ],
      "metadata": {
        "id": "ZnF6uDBuGzo1"
      },
      "execution_count": 17,
      "outputs": []
    }
  ]
}