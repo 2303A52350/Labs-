{
  "nbformat": 4,
  "nbformat_minor": 0,
  "metadata": {
    "colab": {
      "provenance": [],
      "authorship_tag": "ABX9TyN2JAKIJnUNyaGgCpplMpDa",
      "include_colab_link": true
    },
    "kernelspec": {
      "name": "python3",
      "display_name": "Python 3"
    },
    "language_info": {
      "name": "python"
    }
  },
  "cells": [
    {
      "cell_type": "markdown",
      "metadata": {
        "id": "view-in-github",
        "colab_type": "text"
      },
      "source": [
        "<a href=\"https://colab.research.google.com/github/2303A52350/Labs-/blob/main/AIML_lab_2_sept_20.ipynb\" target=\"_parent\"><img src=\"https://colab.research.google.com/assets/colab-badge.svg\" alt=\"Open In Colab\"/></a>"
      ]
    },
    {
      "cell_type": "code",
      "source": [
        "from queue import Queue\n",
        "\n",
        "graph = {0: [1, 2, 3],\n",
        "         1: [0, 2],\n",
        "         2: [1, 3, 5],\n",
        "         3: [0, 2, 4],\n",
        "         4: [3, 5, 7],\n",
        "         5: [2, 4, 6, 7],\n",
        "         6: [5, 7],\n",
        "         7:[]}\n",
        "print(\"The adjacency List representing the graph is:\")\n",
        "print(graph)\n",
        "def bfs(graph, source):\n",
        "      Q = Queue()\n",
        "      visited_vertices = set()\n",
        "      Q.put(source)\n",
        "      visited_vertices.update({source})\n",
        "      while not Q.empty():\n",
        "          vertex = Q.get()\n",
        "          print(vertex, end=\"-->\")\n",
        "          for u in graph[vertex]:\n",
        "              if u not in visited_vertices:\n",
        "                 Q.put(u)\n",
        "                 visited_vertices.update({u})\n",
        "print(\"BFS traversal of graph with source 1 is:\")\n",
        "bfs(graph, 1)"
      ],
      "metadata": {
        "colab": {
          "base_uri": "https://localhost:8080/"
        },
        "id": "Pj5ZweakGslV",
        "outputId": "bceb3d3e-484b-4bb2-a6b2-5ea735a27f2c"
      },
      "execution_count": null,
      "outputs": [
        {
          "output_type": "stream",
          "name": "stdout",
          "text": [
            "The adjacency List representing the graph is:\n",
            "{0: [1, 2, 3], 1: [0, 2], 2: [1, 3, 5], 3: [0, 2, 4], 4: [3, 5, 7], 5: [2, 4, 6, 7], 6: [5, 7], 7: []}\n",
            "BFS traversal of graph with source 1 is:\n",
            "1-->0-->2-->3-->5-->4-->6-->7-->"
          ]
        }
      ]
    },
    {
      "cell_type": "markdown",
      "source": [
        "\n",
        "  Part-02:Implement Depth First Search Algorithm"
      ],
      "metadata": {
        "id": "vJRsE5mDH6Il"
      }
    },
    {
      "cell_type": "code",
      "source": [
        "graph1 = {\n",
        "    'A' : ['B','C','G'],\n",
        "    'B' : ['A'],\n",
        "    'C' : ['A','D','F',],\n",
        "    'D' : ['A','C','E','H'],\n",
        "    'E' : ['D','H','F'],\n",
        "    'F' : ['C','E'],\n",
        "    'G' : ['A','D','H'],\n",
        "    'H' : ['D','E','G']\n",
        "}\n",
        "def dfs(graph, node, visited):\n",
        "    if node not in visited:\n",
        "        visited.append(node)\n",
        "        for k in graph[node]:\n",
        "            dfs(graph,k, visited)\n",
        "    return visited\n",
        "\n",
        "visited = dfs(graph1,'B', [])\n",
        "print(visited)"
      ],
      "metadata": {
        "colab": {
          "base_uri": "https://localhost:8080/"
        },
        "id": "k2gbUDEdH_FV",
        "outputId": "3c3e785a-faed-41bf-e30e-338cbafebd11"
      },
      "execution_count": null,
      "outputs": [
        {
          "output_type": "stream",
          "name": "stdout",
          "text": [
            "['B', 'A', 'C', 'D', 'E', 'H', 'G', 'F']\n"
          ]
        }
      ]
    },
    {
      "cell_type": "code",
      "source": [
        "from copy import deepcopy\n",
        "import numpy as np\n",
        "import time\n",
        "def bestsolution(state):\n",
        "    bestsol = np.array([], int).reshape(-1, 9)\n",
        "    count = len(state) - 1\n",
        "    while count != -1:\n",
        "        bestsol = np.insert(bestsol, 0, state[count]['puzzle'], 0)\n",
        "        count = (state[count]['parent'])\n",
        "    return bestsol.reshape(-1, 3, 3)\n",
        "def all(checkarray):\n",
        "    set=[]\n",
        "    for it in set:\n",
        "        for checkarray in it:\n",
        "            return 1\n",
        "        else:\n",
        "            return 0\n",
        "def misplaced_tiles(puzzle,goal):\n",
        "      mscost = np.sum(puzzle != goal) - 1\n",
        "      return mscost if mscost > 0 else 0\n",
        "def coordinates(puzzle):\n",
        "    pos = np.array(range(9))\n",
        "    for p, q in enumerate(puzzle):\n",
        "        pos[q] = p\n",
        "    return pos\n",
        "def evaluvate_misplaced(puzzle, goal):\n",
        "    steps = np.array([('up', [0, 1, 2], -3),('down', [6, 7, 8],  3),('left', [0, 3, 6], -1),('right', [2, 5, 8],  1)],\n",
        "                dtype =  [('move',  str, 1),('position', list),('head', int)])\n",
        "\n",
        "    dtstate = [('puzzle',  list),('parent', int),('gn',  int),('hn',  int)]\n",
        "\n",
        "    costg = coordinates(goal)\n",
        "    parent = -1\n",
        "    gn = 0\n",
        "    hn = misplaced_tiles(coordinates(puzzle), costg)\n",
        "    state = np.array([(puzzle, parent, gn, hn)], dtype = dtstate)\n",
        "    dtpriority = [('position', int),('fn', int)]\n",
        "\n",
        "    priority = np.array([(0, hn)], dtpriority)\n",
        "    while 1:\n",
        "         priority = np.sort(priority, kind='mergesort', order=['fn', 'position'])\n",
        "         position, fn = priority[0]\n",
        "\n",
        "         priority = np.delete(priority, 0, 0)\n",
        "         puzzle, parent, gn, hn = state[position]\n",
        "         puzzle = np.array(puzzle)\n",
        "\n",
        "\n",
        "\n",
        "\n"
      ],
      "metadata": {
        "id": "cH3SlU8ZJIj3"
      },
      "execution_count": 1,
      "outputs": []
    }
  ]
}